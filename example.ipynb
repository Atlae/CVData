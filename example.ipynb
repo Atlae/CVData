{
 "cells": [
  {
   "cell_type": "code",
   "execution_count": null,
   "metadata": {},
   "outputs": [],
   "source": []
  },
  {
   "cell_type": "code",
   "execution_count": 1,
   "metadata": {},
   "outputs": [
    {
     "name": "stdout",
     "output_type": "stream",
     "text": [
      "[CVData] Cleaning up data...\n",
      "[CVData] Converting IMAGE_SET names to IMAGE_SET_ID\n",
      "[CVData] Done!\n"
     ]
    }
   ],
   "source": [
    "from src import *\n",
    "form = {\n",
    "    Generic('{}.json', DataTypes.IMAGE_SET_NAME): JSONFile({\n",
    "        'images': GenericList([{\n",
    "            'id': DataTypes.IMAGE_ID,\n",
    "            'file_name': Generic('{}.jpg', DataTypes.IMAGE_NAME)\n",
    "        }]),\n",
    "        'categories': GenericList([{\n",
    "            'id': DataTypes.BBOX_CLASS_ID,\n",
    "            'name': DataTypes.BBOX_CLASS_NAME\n",
    "        }]),\n",
    "        'annotations': GenericList([{\n",
    "            'image_id': DataTypes.IMAGE_ID,\n",
    "            'category_id': DataTypes.BBOX_CLASS_ID,\n",
    "            'bbox': GenericList([\n",
    "                DataTypes.XMIN, DataTypes.YMIN, DataTypes.XMAX, DataTypes.YMAX\n",
    "            ])\n",
    "        }])\n",
    "    }),\n",
    "    'images': {\n",
    "        Generic('{}.jpg', DataTypes.IMAGE_NAME): Image()\n",
    "    }\n",
    "}\n",
    "cvdata = CVData('/Users/atong/Documents/Datasets/Avo', form)\n",
    "cvdata.cleanup()"
   ]
  },
  {
   "cell_type": "code",
   "execution_count": 1,
   "metadata": {},
   "outputs": [
    {
     "name": "stdout",
     "output_type": "stream",
     "text": [
      "[CVData] Cleaning up data...\n",
      "[CVData] Converting IMAGE_SET names to IMAGE_SET_ID\n",
      "[CVData] Done!\n"
     ]
    }
   ],
   "source": [
    "from src import *\n",
    "alias = Alias([\n",
    "    Generic(\"{}\", DataTypes.IMAGE_NAME),\n",
    "    Generic(\"{}_{}\", DataTypes.CLASS_NAME, DataTypes.GENERIC)\n",
    "])\n",
    "root = '/Users/atong/Documents/Datasets/OxfordPets'\n",
    "form = {\n",
    "    Static(\"annotations\"): {\n",
    "        Generic(\"{}.txt\", DataTypes.IMAGE_SET_NAME): TXTFile(\n",
    "            Generic(\n",
    "                \"{} {} {} {}\", alias, DataTypes.CLASS_ID, DataTypes.GENERIC, DataTypes.GENERIC\n",
    "            ),\n",
    "            ignore_type = '#'\n",
    "        )\n",
    "    },\n",
    "    Static(\"images\"): {\n",
    "        Generic(\"{}.jpg\", alias): Image()\n",
    "    },\n",
    "    Static(\"class.txt\"): TXTFile(\n",
    "        Generic(\"{} {}\", DataTypes.CLASS_NAME, DataTypes.CLASS_ID)\n",
    "    )\n",
    "}\n",
    "cvdata = CVData(root, form)\n",
    "cvdata.cleanup()\n"
   ]
  },
  {
   "cell_type": "code",
   "execution_count": 2,
   "metadata": {},
   "outputs": [
    {
     "name": "stdout",
     "output_type": "stream",
     "text": [
      "Removed 0 NaN entries.\n"
     ]
    }
   ],
   "source": [
    "dataloader = cvdata.get_dataloader('detection', 'test')"
   ]
  },
  {
   "cell_type": "code",
   "execution_count": 6,
   "metadata": {},
   "outputs": [
    {
     "name": "stdout",
     "output_type": "stream",
     "text": [
      "Removed 0 NaN entries.\n"
     ]
    }
   ],
   "source": [
    "dataset = cvdata.get_dataset('detection', 'temp')"
   ]
  },
  {
   "cell_type": "code",
   "execution_count": 5,
   "metadata": {},
   "outputs": [
    {
     "data": {
      "text/plain": [
       "{'test': 0, 'default': 1, 'trainval': 2, 'list': 3}"
      ]
     },
     "execution_count": 5,
     "metadata": {},
     "output_type": "execute_result"
    }
   ],
   "source": [
    "cvdata.image_set_to_idx"
   ]
  },
  {
   "cell_type": "code",
   "execution_count": 5,
   "metadata": {},
   "outputs": [
    {
     "data": {
      "text/plain": [
       "[3, 3, 3, 0, 3, 3, 3, 1]"
      ]
     },
     "execution_count": 5,
     "metadata": {},
     "output_type": "execute_result"
    }
   ],
   "source": [
    "cvdata.dataframe[['BBOX_CLASS_ID', 'XMIN']].iloc[0]['BBOX_CLASS_ID']"
   ]
  },
  {
   "cell_type": "code",
   "execution_count": 8,
   "metadata": {},
   "outputs": [
    {
     "data": {
      "text/plain": [
       "{'train': 0, 'default': 1, 'temp': 2, 'temp2': 3, 'val': 4, 'test': 5}"
      ]
     },
     "execution_count": 8,
     "metadata": {},
     "output_type": "execute_result"
    }
   ],
   "source": [
    "cvdata.image_set_to_idx"
   ]
  },
  {
   "cell_type": "code",
   "execution_count": 9,
   "metadata": {},
   "outputs": [
    {
     "data": {
      "text/plain": [
       "[]"
      ]
     },
     "execution_count": 9,
     "metadata": {},
     "output_type": "execute_result"
    }
   ],
   "source": [
    "cvdata.available_modes"
   ]
  },
  {
   "cell_type": "code",
   "execution_count": 2,
   "metadata": {},
   "outputs": [],
   "source": [
    "a = cvdata.dataframe.loc[cvdata.dataframe['CLASS_NAME'] == 'keeshond']['CLASS_ID']"
   ]
  },
  {
   "cell_type": "code",
   "execution_count": 2,
   "metadata": {},
   "outputs": [
    {
     "data": {
      "text/html": [
       "<div>\n",
       "<style scoped>\n",
       "    .dataframe tbody tr th:only-of-type {\n",
       "        vertical-align: middle;\n",
       "    }\n",
       "\n",
       "    .dataframe tbody tr th {\n",
       "        vertical-align: top;\n",
       "    }\n",
       "\n",
       "    .dataframe thead th {\n",
       "        text-align: right;\n",
       "    }\n",
       "</style>\n",
       "<table border=\"1\" class=\"dataframe\">\n",
       "  <thead>\n",
       "    <tr style=\"text-align: right;\">\n",
       "      <th></th>\n",
       "      <th>IMAGE_NAME</th>\n",
       "      <th>CLASS_NAME</th>\n",
       "      <th>GENERIC</th>\n",
       "      <th>CLASS_ID</th>\n",
       "      <th>IMAGE_SET_NAME</th>\n",
       "      <th>ABSOLUTE_FILE</th>\n",
       "    </tr>\n",
       "  </thead>\n",
       "  <tbody>\n",
       "    <tr>\n",
       "      <th>0</th>\n",
       "      <td>japanese_chin_158</td>\n",
       "      <td>japanese_chin</td>\n",
       "      <td>2</td>\n",
       "      <td>12.0</td>\n",
       "      <td>[list, trainval]</td>\n",
       "      <td>/Users/atong/Documents/Datasets/OxfordPets/ima...</td>\n",
       "    </tr>\n",
       "    <tr>\n",
       "      <th>1</th>\n",
       "      <td>boxer_199</td>\n",
       "      <td>boxer</td>\n",
       "      <td>2</td>\n",
       "      <td>5.0</td>\n",
       "      <td>[list, test]</td>\n",
       "      <td>/Users/atong/Documents/Datasets/OxfordPets/ima...</td>\n",
       "    </tr>\n",
       "    <tr>\n",
       "      <th>2</th>\n",
       "      <td>japanese_chin_159</td>\n",
       "      <td>japanese_chin</td>\n",
       "      <td>2</td>\n",
       "      <td>12.0</td>\n",
       "      <td>[list, trainval]</td>\n",
       "      <td>/Users/atong/Documents/Datasets/OxfordPets/ima...</td>\n",
       "    </tr>\n",
       "    <tr>\n",
       "      <th>3</th>\n",
       "      <td>boxer_19</td>\n",
       "      <td>boxer</td>\n",
       "      <td>2</td>\n",
       "      <td>5.0</td>\n",
       "      <td>[list, test]</td>\n",
       "      <td>/Users/atong/Documents/Datasets/OxfordPets/ima...</td>\n",
       "    </tr>\n",
       "    <tr>\n",
       "      <th>4</th>\n",
       "      <td>japanese_chin_15</td>\n",
       "      <td>japanese_chin</td>\n",
       "      <td>2</td>\n",
       "      <td>12.0</td>\n",
       "      <td>[list, trainval]</td>\n",
       "      <td>/Users/atong/Documents/Datasets/OxfordPets/ima...</td>\n",
       "    </tr>\n",
       "    <tr>\n",
       "      <th>...</th>\n",
       "      <td>...</td>\n",
       "      <td>...</td>\n",
       "      <td>...</td>\n",
       "      <td>...</td>\n",
       "      <td>...</td>\n",
       "      <td>...</td>\n",
       "    </tr>\n",
       "    <tr>\n",
       "      <th>7385</th>\n",
       "      <td>keeshond_127</td>\n",
       "      <td>keeshond</td>\n",
       "      <td>2</td>\n",
       "      <td>13.0</td>\n",
       "      <td>[list, trainval]</td>\n",
       "      <td>/Users/atong/Documents/Datasets/OxfordPets/ima...</td>\n",
       "    </tr>\n",
       "    <tr>\n",
       "      <th>7386</th>\n",
       "      <td>Russian_Blue_237</td>\n",
       "      <td>Russian_Blue</td>\n",
       "      <td>1</td>\n",
       "      <td>10.0</td>\n",
       "      <td>[list, test]</td>\n",
       "      <td>/Users/atong/Documents/Datasets/OxfordPets/ima...</td>\n",
       "    </tr>\n",
       "    <tr>\n",
       "      <th>7387</th>\n",
       "      <td>Russian_Blue_239</td>\n",
       "      <td>Russian_Blue</td>\n",
       "      <td>1</td>\n",
       "      <td>10.0</td>\n",
       "      <td>[list, test]</td>\n",
       "      <td>/Users/atong/Documents/Datasets/OxfordPets/ima...</td>\n",
       "    </tr>\n",
       "    <tr>\n",
       "      <th>7388</th>\n",
       "      <td>keeshond_128</td>\n",
       "      <td>keeshond</td>\n",
       "      <td>2</td>\n",
       "      <td>13.0</td>\n",
       "      <td>[list, trainval]</td>\n",
       "      <td>/Users/atong/Documents/Datasets/OxfordPets/ima...</td>\n",
       "    </tr>\n",
       "    <tr>\n",
       "      <th>7389</th>\n",
       "      <td>keeshond_129</td>\n",
       "      <td>keeshond</td>\n",
       "      <td>2</td>\n",
       "      <td>13.0</td>\n",
       "      <td>[list, trainval]</td>\n",
       "      <td>/Users/atong/Documents/Datasets/OxfordPets/ima...</td>\n",
       "    </tr>\n",
       "  </tbody>\n",
       "</table>\n",
       "<p>7390 rows × 6 columns</p>\n",
       "</div>"
      ],
      "text/plain": [
       "             IMAGE_NAME     CLASS_NAME GENERIC  CLASS_ID    IMAGE_SET_NAME  \\\n",
       "0     japanese_chin_158  japanese_chin       2      12.0  [list, trainval]   \n",
       "1             boxer_199          boxer       2       5.0      [list, test]   \n",
       "2     japanese_chin_159  japanese_chin       2      12.0  [list, trainval]   \n",
       "3              boxer_19          boxer       2       5.0      [list, test]   \n",
       "4      japanese_chin_15  japanese_chin       2      12.0  [list, trainval]   \n",
       "...                 ...            ...     ...       ...               ...   \n",
       "7385       keeshond_127       keeshond       2      13.0  [list, trainval]   \n",
       "7386   Russian_Blue_237   Russian_Blue       1      10.0      [list, test]   \n",
       "7387   Russian_Blue_239   Russian_Blue       1      10.0      [list, test]   \n",
       "7388       keeshond_128       keeshond       2      13.0  [list, trainval]   \n",
       "7389       keeshond_129       keeshond       2      13.0  [list, trainval]   \n",
       "\n",
       "                                          ABSOLUTE_FILE  \n",
       "0     /Users/atong/Documents/Datasets/OxfordPets/ima...  \n",
       "1     /Users/atong/Documents/Datasets/OxfordPets/ima...  \n",
       "2     /Users/atong/Documents/Datasets/OxfordPets/ima...  \n",
       "3     /Users/atong/Documents/Datasets/OxfordPets/ima...  \n",
       "4     /Users/atong/Documents/Datasets/OxfordPets/ima...  \n",
       "...                                                 ...  \n",
       "7385  /Users/atong/Documents/Datasets/OxfordPets/ima...  \n",
       "7386  /Users/atong/Documents/Datasets/OxfordPets/ima...  \n",
       "7387  /Users/atong/Documents/Datasets/OxfordPets/ima...  \n",
       "7388  /Users/atong/Documents/Datasets/OxfordPets/ima...  \n",
       "7389  /Users/atong/Documents/Datasets/OxfordPets/ima...  \n",
       "\n",
       "[7390 rows x 6 columns]"
      ]
     },
     "execution_count": 2,
     "metadata": {},
     "output_type": "execute_result"
    }
   ],
   "source": [
    "cvdata.dataframe"
   ]
  },
  {
   "cell_type": "code",
   "execution_count": 5,
   "metadata": {},
   "outputs": [
    {
     "data": {
      "text/plain": [
       "True"
      ]
     },
     "execution_count": 5,
     "metadata": {},
     "output_type": "execute_result"
    }
   ],
   "source": [
    "isinstance(a.iloc[75], float)"
   ]
  },
  {
   "cell_type": "code",
   "execution_count": 4,
   "metadata": {},
   "outputs": [
    {
     "data": {
      "text/plain": [
       "13.0"
      ]
     },
     "execution_count": 4,
     "metadata": {},
     "output_type": "execute_result"
    }
   ],
   "source": [
    "a.iloc[75]"
   ]
  },
  {
   "cell_type": "code",
   "execution_count": 2,
   "metadata": {},
   "outputs": [
    {
     "data": {
      "text/plain": [
       "{'japanese_chin': 12.0,\n",
       " 'boxer': 5.0,\n",
       " 'keeshond': 13.0,\n",
       " 'leonberger': 14.0,\n",
       " 'British_Shorthair': 5.0,\n",
       " 'Maine_Coon': 7.0,\n",
       " 'miniature_pinscher': 15.0,\n",
       " 'Russian_Blue': 10.0,\n",
       " 'chihuahua': 6.0,\n",
       " 'saint_bernard': 19.0,\n",
       " 'shiba_inu': 22.0,\n",
       " 'german_shorthaired': 9.0,\n",
       " 'newfoundland': 16.0,\n",
       " 'Persian': 8.0,\n",
       " 'Egyptian_Mau': 6.0,\n",
       " 'samoyed': 20.0,\n",
       " 'english_cocker_spaniel': 7.0,\n",
       " 'pomeranian': 17.0,\n",
       " 'pug': 18.0,\n",
       " 'scottish_terrier': 21.0,\n",
       " 'Ragdoll': 9.0,\n",
       " 'english_setter': 8.0,\n",
       " 'wheaten_terrier': 24.0,\n",
       " 'Siamese': 11.0,\n",
       " 'great_pyrenees': 10.0,\n",
       " 'Sphynx': 12.0,\n",
       " 'staffordshire_bull_terrier': 23.0,\n",
       " 'havanese': 11.0,\n",
       " 'yorkshire_terrier': 25.0,\n",
       " 'basset_hound': 3.0,\n",
       " 'Abyssinian': 1.0,\n",
       " 'american_bulldog': 1.0,\n",
       " 'american_pit_bull_terrier': 2.0,\n",
       " 'beagle': 4.0,\n",
       " 'Bengal': 2.0,\n",
       " 'Birman': 3.0,\n",
       " 'Bombay': 4.0}"
      ]
     },
     "execution_count": 2,
     "metadata": {},
     "output_type": "execute_result"
    }
   ],
   "source": [
    "cvdata.class_to_idx"
   ]
  },
  {
   "cell_type": "code",
   "execution_count": 3,
   "metadata": {},
   "outputs": [
    {
     "data": {
      "text/plain": [
       "['Abyssinian',\n",
       " 'american_bulldog',\n",
       " 'american_pit_bull_terrier',\n",
       " 'Bengal',\n",
       " 'basset_hound',\n",
       " 'Birman',\n",
       " 'beagle',\n",
       " 'Bombay',\n",
       " 'boxer',\n",
       " 'British_Shorthair',\n",
       " 'chihuahua',\n",
       " 'Egyptian_Mau',\n",
       " 'Maine_Coon',\n",
       " 'english_cocker_spaniel',\n",
       " 'Persian',\n",
       " 'english_setter',\n",
       " 'german_shorthaired',\n",
       " 'Ragdoll',\n",
       " 'Russian_Blue',\n",
       " 'great_pyrenees',\n",
       " 'Siamese',\n",
       " 'havanese',\n",
       " 'japanese_chin',\n",
       " 'Sphynx',\n",
       " 'keeshond',\n",
       " 'leonberger',\n",
       " 'miniature_pinscher',\n",
       " 'newfoundland',\n",
       " 'pomeranian',\n",
       " 'pug',\n",
       " 'saint_bernard',\n",
       " 'samoyed',\n",
       " 'scottish_terrier',\n",
       " 'shiba_inu',\n",
       " 'staffordshire_bull_terrier',\n",
       " 'wheaten_terrier',\n",
       " 'yorkshire_terrier']"
      ]
     },
     "execution_count": 3,
     "metadata": {},
     "output_type": "execute_result"
    }
   ],
   "source": [
    "cvdata.classes"
   ]
  },
  {
   "cell_type": "code",
   "execution_count": null,
   "metadata": {},
   "outputs": [],
   "source": []
  }
 ],
 "metadata": {
  "kernelspec": {
   "display_name": "Python 3",
   "language": "python",
   "name": "python3"
  },
  "language_info": {
   "codemirror_mode": {
    "name": "ipython",
    "version": 3
   },
   "file_extension": ".py",
   "mimetype": "text/x-python",
   "name": "python",
   "nbconvert_exporter": "python",
   "pygments_lexer": "ipython3",
   "version": "3.11.0"
  }
 },
 "nbformat": 4,
 "nbformat_minor": 2
}
