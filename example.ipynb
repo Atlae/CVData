{
 "cells": [
  {
   "cell_type": "code",
   "execution_count": 1,
   "metadata": {},
   "outputs": [],
   "source": [
    "from src import *"
   ]
  },
  {
   "cell_type": "code",
   "execution_count": 3,
   "metadata": {},
   "outputs": [],
   "source": [
    "form = {\n",
    "    'train.json': JSONFile({\n",
    "        'images': GenericList([{\n",
    "            'id': DataTypes.IMAGE_ID,\n",
    "            'file_name': Generic('{}.jpg', DataTypes.IMAGE_NAME)\n",
    "        }]),\n",
    "        'categories': GenericList([{\n",
    "            'id': DataTypes.BBOX_CLASS_ID,\n",
    "            'name': DataTypes.BBOX_CLASS_NAME\n",
    "        }]),\n",
    "        'annotations': GenericList([{\n",
    "            'image_id': DataTypes.IMAGE_ID,\n",
    "            'category_id': DataTypes.BBOX_CLASS_ID,\n",
    "            'bbox': GenericList([\n",
    "                DataTypes.XMIN, DataTypes.YMIN, DataTypes.XMAX, DataTypes.YMAX\n",
    "            ])\n",
    "        }])\n",
    "    }),\n",
    "    'images': {\n",
    "        Generic('{}.jpg', DataTypes.IMAGE_NAME): Image()\n",
    "    }\n",
    "}\n",
    "dataset = Dataset('/Users/atong/Documents/Datasets/Avo', form)\n",
    "df = dataset.get_dataframe()"
   ]
  },
  {
   "cell_type": "code",
   "execution_count": 2,
   "metadata": {},
   "outputs": [],
   "source": [
    "alias = Alias([\n",
    "    Generic(\"{}\", DataTypes.IMAGE_NAME),\n",
    "    Generic(\"{}_{}\", DataTypes.CLASS_NAME, DataTypes.GENERIC)\n",
    "])\n",
    "root = '/Users/atong/Documents/Datasets/OxfordPets'\n",
    "form = {\n",
    "    Static(\"annotations\"): {\n",
    "        Generic(\"{}.txt\", DataTypes.IMAGE_SET): TXTFile(\n",
    "            Generic(\n",
    "                \"{} {} {} {}\", alias, DataTypes.GENERIC, DataTypes.GENERIC, DataTypes.CLASS_ID\n",
    "            ),\n",
    "            ignore_type = '#'\n",
    "        )\n",
    "    },\n",
    "    Static(\"images\"): {\n",
    "        Generic(\"{}.jpg\", alias): Image()\n",
    "    },\n",
    "    Static(\"class.txt\"): TXTFile(\n",
    "        Generic(\"{} {}\", DataTypes.CLASS_NAME, DataTypes.CLASS_ID)\n",
    "    )\n",
    "}\n",
    "dataset = Dataset(root, form)\n",
    "df = dataset.get_dataframe()"
   ]
  },
  {
   "cell_type": "code",
   "execution_count": 3,
   "metadata": {},
   "outputs": [
    {
     "ename": "NameError",
     "evalue": "name 'df' is not defined",
     "output_type": "error",
     "traceback": [
      "\u001b[0;31m---------------------------------------------------------------------------\u001b[0m",
      "\u001b[0;31mNameError\u001b[0m                                 Traceback (most recent call last)",
      "Cell \u001b[0;32mIn[3], line 1\u001b[0m\n\u001b[0;32m----> 1\u001b[0m \u001b[43mdf\u001b[49m\n",
      "\u001b[0;31mNameError\u001b[0m: name 'df' is not defined"
     ]
    }
   ],
   "source": [
    "df"
   ]
  },
  {
   "cell_type": "code",
   "execution_count": null,
   "metadata": {},
   "outputs": [],
   "source": []
  }
 ],
 "metadata": {
  "kernelspec": {
   "display_name": "Python 3",
   "language": "python",
   "name": "python3"
  },
  "language_info": {
   "codemirror_mode": {
    "name": "ipython",
    "version": 3
   },
   "file_extension": ".py",
   "mimetype": "text/x-python",
   "name": "python",
   "nbconvert_exporter": "python",
   "pygments_lexer": "ipython3",
   "version": "3.11.0"
  }
 },
 "nbformat": 4,
 "nbformat_minor": 2
}
