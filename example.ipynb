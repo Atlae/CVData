{
 "cells": [
  {
   "cell_type": "code",
   "execution_count": 4,
   "metadata": {},
   "outputs": [
    {
     "ename": "ModuleNotFoundError",
     "evalue": "No module named 'pandas'",
     "output_type": "error",
     "traceback": [
      "\u001b[1;31m---------------------------------------------------------------------------\u001b[0m",
      "\u001b[1;31mModuleNotFoundError\u001b[0m                       Traceback (most recent call last)",
      "Cell \u001b[1;32mIn[4], line 1\u001b[0m\n\u001b[1;32m----> 1\u001b[0m \u001b[38;5;28;01mfrom\u001b[39;00m \u001b[38;5;21;01msrc\u001b[39;00m \u001b[38;5;28;01mimport\u001b[39;00m \u001b[38;5;241m*\u001b[39m\n",
      "File \u001b[1;32mc:\\Users\\xiast\\OneDrive\\Documents\\GitHub\\CVData\\src\\__init__.py:3\u001b[0m\n\u001b[0;32m      1\u001b[0m \u001b[38;5;28;01mfrom\u001b[39;00m \u001b[38;5;21;01m.\u001b[39;00m\u001b[38;5;21;01mDataItems\u001b[39;00m \u001b[38;5;28;01mimport\u001b[39;00m \u001b[38;5;241m*\u001b[39m\n\u001b[0;32m      2\u001b[0m \u001b[38;5;28;01mfrom\u001b[39;00m \u001b[38;5;21;01m.\u001b[39;00m\u001b[38;5;21;01mProcessing\u001b[39;00m \u001b[38;5;28;01mimport\u001b[39;00m \u001b[38;5;241m*\u001b[39m\n\u001b[1;32m----> 3\u001b[0m \u001b[38;5;28;01mfrom\u001b[39;00m \u001b[38;5;21;01m.\u001b[39;00m\u001b[38;5;21;01mMain\u001b[39;00m \u001b[38;5;28;01mimport\u001b[39;00m \u001b[38;5;241m*\u001b[39m\n",
      "File \u001b[1;32mc:\\Users\\xiast\\OneDrive\\Documents\\GitHub\\CVData\\src\\Main.py:9\u001b[0m\n\u001b[0;32m      7\u001b[0m \u001b[38;5;28;01mfrom\u001b[39;00m \u001b[38;5;21;01mtyping\u001b[39;00m \u001b[38;5;28;01mimport\u001b[39;00m Any\n\u001b[0;32m      8\u001b[0m \u001b[38;5;28;01mimport\u001b[39;00m \u001b[38;5;21;01mjson\u001b[39;00m\n\u001b[1;32m----> 9\u001b[0m \u001b[38;5;28;01mfrom\u001b[39;00m \u001b[38;5;21;01mpandas\u001b[39;00m \u001b[38;5;28;01mimport\u001b[39;00m DataFrame\n\u001b[0;32m     10\u001b[0m \u001b[38;5;28;01mfrom\u001b[39;00m \u001b[38;5;21;01mpandas\u001b[39;00m\u001b[38;5;21;01m.\u001b[39;00m\u001b[38;5;21;01mcore\u001b[39;00m\u001b[38;5;21;01m.\u001b[39;00m\u001b[38;5;21;01mseries\u001b[39;00m \u001b[38;5;28;01mimport\u001b[39;00m Series\n\u001b[0;32m     11\u001b[0m \u001b[38;5;28;01mfrom\u001b[39;00m \u001b[38;5;21;01mtorchvision\u001b[39;00m\u001b[38;5;21;01m.\u001b[39;00m\u001b[38;5;21;01mio\u001b[39;00m \u001b[38;5;28;01mimport\u001b[39;00m read_image\n",
      "\u001b[1;31mModuleNotFoundError\u001b[0m: No module named 'pandas'"
     ]
    }
   ],
   "source": [
    "from src import *"
   ]
  },
  {
   "cell_type": "code",
   "execution_count": 2,
   "metadata": {},
   "outputs": [],
   "source": [
    "form = {\n",
    "    Generic('{}.json', DataTypes.IMAGE_SET): JSONFile({\n",
    "        'images': GenericList([{\n",
    "            'id': DataTypes.IMAGE_ID,\n",
    "            'file_name': Generic('{}.jpg', DataTypes.IMAGE_NAME)\n",
    "        }]),\n",
    "        'categories': GenericList([{\n",
    "            'id': DataTypes.BBOX_CLASS_ID,\n",
    "            'name': DataTypes.BBOX_CLASS_NAME\n",
    "        }]),\n",
    "        'annotations': GenericList([{\n",
    "            'image_id': DataTypes.IMAGE_ID,\n",
    "            'category_id': DataTypes.BBOX_CLASS_ID,\n",
    "            'bbox': GenericList([\n",
    "                DataTypes.XMIN, DataTypes.YMIN, DataTypes.XMAX, DataTypes.YMAX\n",
    "            ])\n",
    "        }])\n",
    "    }),\n",
    "    'images': {\n",
    "        Generic('{}.jpg', DataTypes.IMAGE_NAME): Image()\n",
    "    }\n",
    "}\n",
    "dataset = CVData('/Users/atong/Documents/Datasets/Avo', form)"
   ]
  },
  {
   "cell_type": "code",
   "execution_count": 3,
   "metadata": {},
   "outputs": [
    {
     "ename": "NameError",
     "evalue": "name 'Generic' is not defined",
     "output_type": "error",
     "traceback": [
      "\u001b[1;31m---------------------------------------------------------------------------\u001b[0m",
      "\u001b[1;31mNameError\u001b[0m                                 Traceback (most recent call last)",
      "Cell \u001b[1;32mIn[3], line 2\u001b[0m\n\u001b[0;32m      1\u001b[0m form \u001b[38;5;241m=\u001b[39m {\n\u001b[1;32m----> 2\u001b[0m     \u001b[43mGeneric\u001b[49m(\u001b[38;5;124m'\u001b[39m\u001b[38;5;132;01m{}\u001b[39;00m\u001b[38;5;124m.xml\u001b[39m\u001b[38;5;124m'\u001b[39m, DataTypes\u001b[38;5;241m.\u001b[39mIMAGE_SET): XMLFile({\n\u001b[0;32m      3\u001b[0m         \u001b[38;5;124m'\u001b[39m\u001b[38;5;124mimages\u001b[39m\u001b[38;5;124m'\u001b[39m: GenericList([{\n\u001b[0;32m      4\u001b[0m             \u001b[38;5;124m'\u001b[39m\u001b[38;5;124mid\u001b[39m\u001b[38;5;124m'\u001b[39m: DataTypes\u001b[38;5;241m.\u001b[39mIMAGE_ID,\n\u001b[0;32m      5\u001b[0m             \u001b[38;5;124m'\u001b[39m\u001b[38;5;124mfile_name\u001b[39m\u001b[38;5;124m'\u001b[39m: Generic(\u001b[38;5;124m'\u001b[39m\u001b[38;5;132;01m{}\u001b[39;00m\u001b[38;5;124m.jpg\u001b[39m\u001b[38;5;124m'\u001b[39m, DataTypes\u001b[38;5;241m.\u001b[39mIMAGE_NAME)\n\u001b[0;32m      6\u001b[0m         }]),\n\u001b[0;32m      7\u001b[0m         \u001b[38;5;124m'\u001b[39m\u001b[38;5;124mcategories\u001b[39m\u001b[38;5;124m'\u001b[39m: GenericList([{\n\u001b[0;32m      8\u001b[0m             \u001b[38;5;124m'\u001b[39m\u001b[38;5;124mid\u001b[39m\u001b[38;5;124m'\u001b[39m: DataTypes\u001b[38;5;241m.\u001b[39mBBOX_CLASS_ID,\n\u001b[0;32m      9\u001b[0m             \u001b[38;5;124m'\u001b[39m\u001b[38;5;124mname\u001b[39m\u001b[38;5;124m'\u001b[39m: DataTypes\u001b[38;5;241m.\u001b[39mBBOX_CLASS_NAME\n\u001b[0;32m     10\u001b[0m         }]),\n\u001b[0;32m     11\u001b[0m         \u001b[38;5;124m'\u001b[39m\u001b[38;5;124mannotations\u001b[39m\u001b[38;5;124m'\u001b[39m: GenericList([{\n\u001b[0;32m     12\u001b[0m             \u001b[38;5;124m'\u001b[39m\u001b[38;5;124mimage_id\u001b[39m\u001b[38;5;124m'\u001b[39m: DataTypes\u001b[38;5;241m.\u001b[39mIMAGE_ID,\n\u001b[0;32m     13\u001b[0m             \u001b[38;5;124m'\u001b[39m\u001b[38;5;124mcategory_id\u001b[39m\u001b[38;5;124m'\u001b[39m: DataTypes\u001b[38;5;241m.\u001b[39mBBOX_CLASS_ID,\n\u001b[0;32m     14\u001b[0m             \u001b[38;5;124m'\u001b[39m\u001b[38;5;124mbbox\u001b[39m\u001b[38;5;124m'\u001b[39m: GenericList([\n\u001b[0;32m     15\u001b[0m                 DataTypes\u001b[38;5;241m.\u001b[39mXMIN, DataTypes\u001b[38;5;241m.\u001b[39mYMIN, DataTypes\u001b[38;5;241m.\u001b[39mXMAX, DataTypes\u001b[38;5;241m.\u001b[39mYMAX\n\u001b[0;32m     16\u001b[0m             ])\n\u001b[0;32m     17\u001b[0m         }])\n\u001b[0;32m     18\u001b[0m     }),\n\u001b[0;32m     19\u001b[0m     \u001b[38;5;124m'\u001b[39m\u001b[38;5;124mimages\u001b[39m\u001b[38;5;124m'\u001b[39m: {\n\u001b[0;32m     20\u001b[0m         Generic(\u001b[38;5;124m'\u001b[39m\u001b[38;5;132;01m{}\u001b[39;00m\u001b[38;5;124m.jpg\u001b[39m\u001b[38;5;124m'\u001b[39m, DataTypes\u001b[38;5;241m.\u001b[39mIMAGE_NAME): Image()\n\u001b[0;32m     21\u001b[0m     }\n\u001b[0;32m     22\u001b[0m }\n\u001b[0;32m     23\u001b[0m dataset \u001b[38;5;241m=\u001b[39m CVData(\u001b[38;5;124m'\u001b[39m\u001b[38;5;124m/Users/atong/Documents/Datasets/Avo\u001b[39m\u001b[38;5;124m'\u001b[39m, form)\n",
      "\u001b[1;31mNameError\u001b[0m: name 'Generic' is not defined"
     ]
    }
   ],
   "source": [
    "form = {\n",
    "    Generic('{}.xml', DataTypes.IMAGE_SET): XMLFile({\n",
    "        'images': GenericList([{\n",
    "            'id': DataTypes.IMAGE_ID,\n",
    "            'file_name': Generic('{}.jpg', DataTypes.IMAGE_NAME)\n",
    "        }]),\n",
    "        'categories': GenericList([{\n",
    "            'id': DataTypes.BBOX_CLASS_ID,\n",
    "            'name': DataTypes.BBOX_CLASS_NAME\n",
    "        }]),\n",
    "        'annotations': GenericList([{\n",
    "            'image_id': DataTypes.IMAGE_ID,\n",
    "            'category_id': DataTypes.BBOX_CLASS_ID,\n",
    "            'bbox': GenericList([\n",
    "                DataTypes.XMIN, DataTypes.YMIN, DataTypes.XMAX, DataTypes.YMAX\n",
    "            ])\n",
    "        }])\n",
    "    }),\n",
    "    'images': {\n",
    "        Generic('{}.jpg', DataTypes.IMAGE_NAME): Image()\n",
    "    }\n",
    "}\n",
    "dataset = CVData('/Users/atong/Documents/Datasets/Avo', form)"
   ]
  },
  {
   "cell_type": "code",
   "execution_count": 3,
   "metadata": {},
   "outputs": [],
   "source": [
    "alias = Alias([\n",
    "    Generic(\"{}\", DataTypes.IMAGE_NAME),\n",
    "    Generic(\"{}_{}\", DataTypes.CLASS_NAME, DataTypes.GENERIC)\n",
    "])\n",
    "root = '/Users/atong/Documents/Datasets/OxfordPets'\n",
    "form = {\n",
    "    Static(\"annotations\"): {\n",
    "        Generic(\"{}.txt\", DataTypes.IMAGE_SET): TXTFile(\n",
    "            Generic(\n",
    "                \"{} {} {} {}\", alias, DataTypes.GENERIC, DataTypes.GENERIC, DataTypes.CLASS_ID\n",
    "            ),\n",
    "            ignore_type = '#'\n",
    "        )\n",
    "    },\n",
    "    Static(\"images\"): {\n",
    "        Generic(\"{}.jpg\", alias): Image()\n",
    "    },\n",
    "    Static(\"class.txt\"): TXTFile(\n",
    "        Generic(\"{} {}\", DataTypes.CLASS_NAME, DataTypes.CLASS_ID)\n",
    "    )\n",
    "}\n",
    "dataset = CVData(root, form)\n"
   ]
  },
  {
   "cell_type": "code",
   "execution_count": 3,
   "metadata": {},
   "outputs": [],
   "source": [
    "form = {\n",
    "    Static('temp.json', DataItem(DataTypes.IMAGE_SET, 'temp')): JSONFile({\n",
    "        'images': GenericList([{\n",
    "            'id': DataTypes.IMAGE_ID,\n",
    "            'file_name': Generic('{}.jpg', DataTypes.IMAGE_NAME)\n",
    "        }]),\n",
    "        'categories': GenericList([{\n",
    "            'id': DataTypes.BBOX_CLASS_ID,\n",
    "            'name': DataTypes.BBOX_CLASS_NAME\n",
    "        }]),\n",
    "        'annotations': GenericList([{\n",
    "            'image_id': DataTypes.IMAGE_ID,\n",
    "            'category_id': DataTypes.BBOX_CLASS_ID,\n",
    "            'bbox': GenericList([\n",
    "                DataTypes.XMIN, DataTypes.YMIN, DataTypes.XMAX, DataTypes.YMAX\n",
    "            ])\n",
    "        }])\n",
    "    }),\n",
    "    'images': {\n",
    "        Generic('{}.jpg', DataTypes.IMAGE_NAME): Image()\n",
    "    }\n",
    "}\n",
    "dataset = CVData('/Users/atong/Documents/Datasets/Avo', form)"
   ]
  },
  {
   "cell_type": "code",
   "execution_count": null,
   "metadata": {},
   "outputs": [],
   "source": []
  }
 ],
 "metadata": {
  "kernelspec": {
   "display_name": "Python 3",
   "language": "python",
   "name": "python3"
  },
  "language_info": {
   "codemirror_mode": {
    "name": "ipython",
    "version": 3
   },
   "file_extension": ".py",
   "mimetype": "text/x-python",
   "name": "python",
   "nbconvert_exporter": "python",
   "pygments_lexer": "ipython3",
   "version": "3.12.1"
  }
 },
 "nbformat": 4,
 "nbformat_minor": 2
}
