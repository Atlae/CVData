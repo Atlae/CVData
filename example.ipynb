{
 "cells": [
  {
   "cell_type": "code",
   "execution_count": 2,
   "metadata": {},
   "outputs": [
    {
     "name": "stdout",
     "output_type": "stream",
     "text": [
      "[CVData] Converting IMAGE_SET names to IMAGE_SET_ID and purging all missing IMAGE_SET values...\n"
     ]
    }
   ],
   "source": [
    "from src import *\n",
    "form = {\n",
    "    Generic('{}.json', DataTypes.IMAGE_SET): JSONFile({\n",
    "        'images': GenericList([{\n",
    "            'id': DataTypes.IMAGE_ID,\n",
    "            'file_name': Generic('{}.jpg', DataTypes.IMAGE_NAME)\n",
    "        }]),\n",
    "        'categories': GenericList([{\n",
    "            'id': DataTypes.BBOX_CLASS_ID,\n",
    "            'name': DataTypes.BBOX_CLASS_NAME\n",
    "        }]),\n",
    "        'annotations': GenericList([{\n",
    "            'image_id': DataTypes.IMAGE_ID,\n",
    "            'category_id': DataTypes.BBOX_CLASS_ID,\n",
    "            'bbox': GenericList([\n",
    "                DataTypes.XMIN, DataTypes.YMIN, DataTypes.XMAX, DataTypes.YMAX\n",
    "            ])\n",
    "        }])\n",
    "    }),\n",
    "    'images': {\n",
    "        Generic('{}.jpg', DataTypes.IMAGE_NAME): Image()\n",
    "    }\n",
    "}\n",
    "cvdata = CVData('/Users/atong/Documents/Datasets/Avo', form)\n",
    "cvdata.cleanup()"
   ]
  },
  {
   "cell_type": "code",
   "execution_count": 4,
   "metadata": {},
   "outputs": [
    {
     "name": "stdout",
     "output_type": "stream",
     "text": [
      "[CVData] Converting IMAGE_SET names to IMAGE_SET_ID\n"
     ]
    }
   ],
   "source": [
    "alias = Alias([\n",
    "    Generic(\"{}\", DataTypes.IMAGE_NAME),\n",
    "    Generic(\"{}_{}\", DataTypes.CLASS_NAME, DataTypes.GENERIC)\n",
    "])\n",
    "root = '/Users/atong/Documents/Datasets/OxfordPets'\n",
    "form = {\n",
    "    Static(\"annotations\"): {\n",
    "        Generic(\"{}.txt\", DataTypes.IMAGE_SET): TXTFile(\n",
    "            Generic(\n",
    "                \"{} {} {} {}\", alias, DataTypes.GENERIC, DataTypes.GENERIC, DataTypes.CLASS_ID\n",
    "            ),\n",
    "            ignore_type = '#'\n",
    "        )\n",
    "    },\n",
    "    Static(\"images\"): {\n",
    "        Generic(\"{}.jpg\", alias): Image()\n",
    "    },\n",
    "    Static(\"class.txt\"): TXTFile(\n",
    "        Generic(\"{} {}\", DataTypes.CLASS_NAME, DataTypes.CLASS_ID)\n",
    "    )\n",
    "}\n",
    "cvdata = CVData(root, form)\n"
   ]
  },
  {
   "cell_type": "code",
   "execution_count": 5,
   "metadata": {},
   "outputs": [
    {
     "name": "stdout",
     "output_type": "stream",
     "text": [
      "Removed 3 NaN entries.\n"
     ]
    }
   ],
   "source": [
    "dataloader = cvdata.get_dataloader('detection', 'test')"
   ]
  },
  {
   "cell_type": "code",
   "execution_count": 4,
   "metadata": {},
   "outputs": [
    {
     "name": "stdout",
     "output_type": "stream",
     "text": [
      "Removed 3 NaN entries.\n"
     ]
    }
   ],
   "source": [
    "dataset = cvdata.get_dataset('detection', 'train')"
   ]
  },
  {
   "cell_type": "code",
   "execution_count": 3,
   "metadata": {},
   "outputs": [
    {
     "data": {
      "text/plain": [
       "{'train': 0, 'test': 1, 'temp': 2, 'temp2': 3, 'val': 4}"
      ]
     },
     "execution_count": 3,
     "metadata": {},
     "output_type": "execute_result"
    }
   ],
   "source": [
    "cvdata.image_set_to_idx"
   ]
  },
  {
   "cell_type": "code",
   "execution_count": null,
   "metadata": {},
   "outputs": [],
   "source": []
  }
 ],
 "metadata": {
  "kernelspec": {
   "display_name": "Python 3",
   "language": "python",
   "name": "python3"
  },
  "language_info": {
   "codemirror_mode": {
    "name": "ipython",
    "version": 3
   },
   "file_extension": ".py",
   "mimetype": "text/x-python",
   "name": "python",
   "nbconvert_exporter": "python",
   "pygments_lexer": "ipython3",
   "version": "3.11.0"
  }
 },
 "nbformat": 4,
 "nbformat_minor": 2
}
