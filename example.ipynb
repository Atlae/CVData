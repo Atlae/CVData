{
 "cells": [
  {
   "cell_type": "code",
   "execution_count": 1,
   "metadata": {},
   "outputs": [],
   "source": [
    "from src import *"
   ]
  },
  {
   "cell_type": "code",
   "execution_count": 2,
   "metadata": {},
   "outputs": [],
   "source": [
    "form = {\n",
    "    Generic('{}.json', DataTypes.IMAGE_SET): JSONFile({\n",
    "        'images': GenericList([{\n",
    "            'id': DataTypes.IMAGE_ID,\n",
    "            'file_name': Generic('{}.jpg', DataTypes.IMAGE_NAME)\n",
    "        }]),\n",
    "        'categories': GenericList([{\n",
    "            'id': DataTypes.BBOX_CLASS_ID,\n",
    "            'name': DataTypes.BBOX_CLASS_NAME\n",
    "        }]),\n",
    "        'annotations': GenericList([{\n",
    "            'image_id': DataTypes.IMAGE_ID,\n",
    "            'category_id': DataTypes.BBOX_CLASS_ID,\n",
    "            'bbox': GenericList([\n",
    "                DataTypes.XMIN, DataTypes.YMIN, DataTypes.XMAX, DataTypes.YMAX\n",
    "            ])\n",
    "        }])\n",
    "    }),\n",
    "    'images': {\n",
    "        Generic('{}.jpg', DataTypes.IMAGE_NAME): Image()\n",
    "    }\n",
    "}\n",
    "dataset = CVData('/Users/atong/Documents/Datasets/Avo', form)"
   ]
  },
  {
   "cell_type": "code",
   "execution_count": 3,
   "metadata": {},
   "outputs": [
    {
     "data": {
      "text/plain": [
       "True"
      ]
     },
     "execution_count": 3,
     "metadata": {},
     "output_type": "execute_result"
    }
   ],
   "source": [
    "CVData._detection_cols.issubset(dataset.dataframe.columns)"
   ]
  },
  {
   "cell_type": "code",
   "execution_count": 2,
   "metadata": {},
   "outputs": [],
   "source": [
    "alias = Alias([\n",
    "    Generic(\"{}\", DataTypes.IMAGE_NAME),\n",
    "    Generic(\"{}_{}\", DataTypes.CLASS_NAME, DataTypes.GENERIC)\n",
    "])\n",
    "root = '/Users/atong/Documents/Datasets/OxfordPets'\n",
    "form = {\n",
    "    Static(\"annotations\"): {\n",
    "        Generic(\"{}.txt\", DataTypes.IMAGE_SET): TXTFile(\n",
    "            Generic(\n",
    "                \"{} {} {} {}\", alias, DataTypes.GENERIC, DataTypes.GENERIC, DataTypes.CLASS_ID\n",
    "            ),\n",
    "            ignore_type = '#'\n",
    "        )\n",
    "    },\n",
    "    Static(\"images\"): {\n",
    "        Generic(\"{}.jpg\", alias): Image()\n",
    "    },\n",
    "    Static(\"class.txt\"): TXTFile(\n",
    "        Generic(\"{} {}\", DataTypes.CLASS_NAME, DataTypes.CLASS_ID)\n",
    "    )\n",
    "}\n",
    "dataset = CVData(root, form)\n"
   ]
  },
  {
   "cell_type": "code",
   "execution_count": 3,
   "metadata": {},
   "outputs": [],
   "source": [
    "s = dataset.get_dataset('test', 'classification')"
   ]
  },
  {
   "cell_type": "code",
   "execution_count": 4,
   "metadata": {},
   "outputs": [
    {
     "data": {
      "text/plain": [
       "(tensor([[[ 82,  80,  82,  ..., 127, 126, 126],\n",
       "          [ 79,  74,  77,  ..., 127, 122, 123],\n",
       "          [ 79,  80,  83,  ..., 126, 123, 119],\n",
       "          ...,\n",
       "          [158, 176, 210,  ..., 208, 209, 210],\n",
       "          [152, 181, 199,  ..., 208, 209, 209],\n",
       "          [156, 177, 188,  ..., 209, 210, 207]],\n",
       " \n",
       "         [[ 77,  75,  77,  ..., 128, 127, 127],\n",
       "          [ 74,  69,  72,  ..., 128, 123, 124],\n",
       "          [ 75,  76,  79,  ..., 127, 124, 120],\n",
       "          ...,\n",
       "          [156, 175, 208,  ..., 239, 240, 240],\n",
       "          [150, 177, 195,  ..., 239, 240, 239],\n",
       "          [151, 171, 184,  ..., 240, 241, 237]],\n",
       " \n",
       "         [[ 73,  71,  73,  ..., 123, 121, 121],\n",
       "          [ 70,  63,  66,  ..., 123, 117, 118],\n",
       "          [ 66,  67,  70,  ..., 121, 118, 114],\n",
       "          ...,\n",
       "          [133, 144, 167,  ..., 195, 198, 202],\n",
       "          [127, 148, 157,  ..., 195, 198, 201],\n",
       "          [131, 145, 149,  ..., 196, 200, 199]]], dtype=torch.uint8),\n",
       " 10)"
      ]
     },
     "execution_count": 4,
     "metadata": {},
     "output_type": "execute_result"
    }
   ],
   "source": [
    "s[0]"
   ]
  },
  {
   "cell_type": "code",
   "execution_count": null,
   "metadata": {},
   "outputs": [],
   "source": []
  }
 ],
 "metadata": {
  "kernelspec": {
   "display_name": "Python 3",
   "language": "python",
   "name": "python3"
  },
  "language_info": {
   "codemirror_mode": {
    "name": "ipython",
    "version": 3
   },
   "file_extension": ".py",
   "mimetype": "text/x-python",
   "name": "python",
   "nbconvert_exporter": "python",
   "pygments_lexer": "ipython3",
   "version": "3.11.0"
  }
 },
 "nbformat": 4,
 "nbformat_minor": 2
}
