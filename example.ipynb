{
 "cells": [
  {
   "cell_type": "code",
   "execution_count": null,
   "metadata": {},
   "outputs": [],
   "source": []
  },
  {
   "cell_type": "code",
   "execution_count": 4,
   "metadata": {},
   "outputs": [
    {
     "name": "stdout",
     "output_type": "stream",
     "text": [
      "[CVData] Cleaning up data...\n",
      "[CVData] Converting IMAGE_SET names to IMAGE_SET_ID\n",
      "[CVData] Done!\n"
     ]
    }
   ],
   "source": [
    "from src import *\n",
    "form = {\n",
    "    Generic('{}.json', DataTypes.IMAGE_SET_NAME): JSONFile({\n",
    "        'images': GenericList([{\n",
    "            'id': DataTypes.IMAGE_ID,\n",
    "            'file_name': Generic('{}.jpg', DataTypes.IMAGE_NAME)\n",
    "        }]),\n",
    "        'categories': GenericList([{\n",
    "            'id': DataTypes.BBOX_CLASS_ID,\n",
    "            'name': DataTypes.BBOX_CLASS_NAME\n",
    "        }]),\n",
    "        'annotations': GenericList([{\n",
    "            'image_id': DataTypes.IMAGE_ID,\n",
    "            'category_id': DataTypes.BBOX_CLASS_ID,\n",
    "            'bbox': GenericList([\n",
    "                DataTypes.XMIN, DataTypes.YMIN, DataTypes.XMAX, DataTypes.YMAX\n",
    "            ])\n",
    "        }])\n",
    "    }),\n",
    "    'images': {\n",
    "        Generic('{}.jpg', DataTypes.IMAGE_NAME): Image()\n",
    "    }\n",
    "}\n",
    "cvdata = CVData('/Users/atong/Documents/Datasets/Avo', form)\n",
    "cvdata.cleanup()"
   ]
  },
  {
   "cell_type": "code",
   "execution_count": 2,
   "metadata": {},
   "outputs": [
    {
     "name": "stdout",
     "output_type": "stream",
     "text": [
      "[CVData] Cleaning up data...\n",
      "[CVData] Converting IMAGE_SET names to IMAGE_SET_ID\n",
      "[CVData] Done!\n"
     ]
    }
   ],
   "source": [
    "from src import *\n",
    "alias = Alias([\n",
    "    Generic(\"{}\", DataTypes.IMAGE_NAME),\n",
    "    Generic(\"{}_{}\", DataTypes.CLASS_NAME, DataTypes.GENERIC)\n",
    "])\n",
    "root = '/Users/atong/Documents/Datasets/OxfordPets'\n",
    "form = {\n",
    "    Static(\"annotations\"): {\n",
    "        Generic(\"{}.txt\", DataTypes.IMAGE_SET_NAME): TXTFile(\n",
    "            Generic(\n",
    "                \"{} {} {} {}\", alias, DataTypes.CLASS_ID, DataTypes.GENERIC, DataTypes.GENERIC\n",
    "            ),\n",
    "            ignore_type = '#'\n",
    "        )\n",
    "    },\n",
    "    Static(\"images\"): {\n",
    "        Generic(\"{}.jpg\", alias): Image()\n",
    "    },\n",
    "    Static(\"class.txt\"): TXTFile(\n",
    "        Generic(\"{} {}\", DataTypes.CLASS_NAME, DataTypes.CLASS_ID)\n",
    "    )\n",
    "}\n",
    "cvdata = CVData(root, form)\n",
    "cvdata.cleanup()\n"
   ]
  },
  {
   "cell_type": "code",
   "execution_count": 6,
   "metadata": {},
   "outputs": [
    {
     "name": "stdout",
     "output_type": "stream",
     "text": [
      "Removed 0 NaN entries.\n"
     ]
    }
   ],
   "source": [
    "dataloader = cvdata.get_dataloader('detection', 'test')"
   ]
  },
  {
   "cell_type": "code",
   "execution_count": 7,
   "metadata": {},
   "outputs": [
    {
     "name": "stdout",
     "output_type": "stream",
     "text": [
      "Seconds: 0.00902700424194336\n",
      "Seconds: 0.00833892822265625\n",
      "Seconds: 0.0074079036712646484\n",
      "Seconds: 0.006834983825683594\n",
      "Seconds: 0.009361982345581055\n",
      "Seconds: 0.0061511993408203125\n",
      "Seconds: 0.008267879486083984\n",
      "Seconds: 0.007391929626464844\n"
     ]
    },
    {
     "data": {
      "text/plain": [
       "((tensor([[[ 62,  59,  56,  ...,  91, 100, 100],\n",
       "           [ 61,  60,  59,  ...,  95,  95,  89],\n",
       "           [ 59,  59,  60,  ...,  91,  89,  84],\n",
       "           ...,\n",
       "           [ 61,  69,  63,  ...,  83,  66,  67],\n",
       "           [ 62,  69,  61,  ...,  80,  73,  97],\n",
       "           [ 73,  65,  64,  ...,  88,  95, 121]],\n",
       "  \n",
       "          [[ 71,  68,  64,  ...,  77,  85,  85],\n",
       "           [ 70,  69,  67,  ...,  82,  81,  75],\n",
       "           [ 69,  68,  68,  ...,  82,  79,  74],\n",
       "           ...,\n",
       "           [ 67,  74,  65,  ...,  72,  57,  58],\n",
       "           [ 70,  75,  64,  ...,  72,  65,  89],\n",
       "           [ 83,  73,  69,  ...,  80,  87, 116]],\n",
       "  \n",
       "          [[ 24,  23,  23,  ...,  40,  46,  46],\n",
       "           [ 23,  24,  26,  ...,  47,  44,  38],\n",
       "           [ 19,  21,  27,  ...,  49,  44,  39],\n",
       "           ...,\n",
       "           [ 89,  94,  80,  ...,  86,  74,  77],\n",
       "           [ 93,  97,  83,  ...,  87,  86, 112],\n",
       "           [108,  96,  89,  ...,  95, 110, 139]]], dtype=torch.uint8),\n",
       "  tensor([[[ 58,  61,  59,  ..., 225, 225, 225],\n",
       "           [ 55,  56,  56,  ..., 230, 231, 230],\n",
       "           [ 56,  52,  54,  ..., 238, 239, 239],\n",
       "           ...,\n",
       "           [ 58,  59,  57,  ...,  91,  83,  86],\n",
       "           [ 58,  56,  58,  ...,  81,  71,  79],\n",
       "           [ 56,  54,  55,  ...,  82,  73,  82]],\n",
       "  \n",
       "          [[ 54,  57,  54,  ..., 202, 201, 201],\n",
       "           [ 55,  56,  55,  ..., 207, 207, 206],\n",
       "           [ 61,  57,  59,  ..., 216, 215, 215],\n",
       "           ...,\n",
       "           [ 58,  60,  60,  ...,  59,  57,  65],\n",
       "           [ 60,  60,  61,  ...,  48,  47,  60],\n",
       "           [ 61,  58,  59,  ...,  51,  49,  63]],\n",
       "  \n",
       "          [[ 55,  58,  58,  ..., 186, 189, 189],\n",
       "           [ 57,  58,  60,  ..., 193, 195, 194],\n",
       "           [ 64,  60,  63,  ..., 202, 203, 203],\n",
       "           ...,\n",
       "           [ 56,  62,  69,  ...,  64,  70,  80],\n",
       "           [ 55,  59,  70,  ...,  55,  61,  79],\n",
       "           [ 55,  57,  68,  ...,  59,  65,  83]]], dtype=torch.uint8),\n",
       "  tensor([[[146, 140, 133,  ..., 165, 167, 170],\n",
       "           [145, 140, 135,  ..., 162, 163, 169],\n",
       "           [140, 138, 135,  ..., 150, 150, 156],\n",
       "           ...,\n",
       "           [145, 143, 153,  ..., 201, 203, 197],\n",
       "           [165, 152, 125,  ..., 192, 193, 189],\n",
       "           [172, 151, 100,  ..., 188, 192, 192]],\n",
       "  \n",
       "          [[235, 234, 235,  ..., 162, 164, 169],\n",
       "           [234, 234, 237,  ..., 156, 160, 166],\n",
       "           [232, 233, 236,  ..., 144, 144, 150],\n",
       "           ...,\n",
       "           [167, 164, 173,  ..., 185, 184, 178],\n",
       "           [191, 177, 149,  ..., 176, 174, 170],\n",
       "           [199, 178, 124,  ..., 173, 173, 173]],\n",
       "  \n",
       "          [[255, 255, 255,  ..., 171, 173, 177],\n",
       "           [255, 255, 255,  ..., 166, 171, 175],\n",
       "           [255, 255, 255,  ..., 156, 158, 162],\n",
       "           ...,\n",
       "           [154, 155, 172,  ..., 188, 188, 180],\n",
       "           [182, 171, 151,  ..., 179, 178, 172],\n",
       "           [192, 173, 128,  ..., 176, 177, 175]]], dtype=torch.uint8),\n",
       "  tensor([[[128, 139, 143,  ..., 226, 220, 235],\n",
       "           [126, 134, 138,  ..., 229, 225, 230],\n",
       "           [128, 132, 136,  ..., 212, 205, 200],\n",
       "           ...,\n",
       "           [226, 223, 217,  ..., 172, 166, 153],\n",
       "           [200, 192, 181,  ..., 150, 147, 137],\n",
       "           [187, 173, 156,  ..., 135, 136, 131]],\n",
       "  \n",
       "          [[131, 142, 142,  ..., 211, 208, 226],\n",
       "           [128, 137, 139,  ..., 214, 212, 218],\n",
       "           [131, 134, 139,  ..., 195, 190, 187],\n",
       "           ...,\n",
       "           [235, 229, 218,  ..., 148, 141, 131],\n",
       "           [202, 193, 177,  ..., 124, 121, 112],\n",
       "           [188, 172, 151,  ..., 109, 110, 104]],\n",
       "  \n",
       "          [[114, 123, 124,  ..., 232, 228, 245],\n",
       "           [114, 120, 121,  ..., 235, 232, 238],\n",
       "           [120, 121, 122,  ..., 214, 209, 205],\n",
       "           ...,\n",
       "           [232, 227, 220,  ..., 148, 144, 134],\n",
       "           [197, 188, 176,  ..., 123, 124, 116],\n",
       "           [182, 167, 148,  ..., 108, 113, 109]]], dtype=torch.uint8)),\n",
       " ({'boxes': tensor([[[223.1829, 438.6698,  60.2850,  53.8717],\n",
       "            [ 32.0665, 433.5392,  53.8717,  55.1544],\n",
       "            [270.6413, 516.9121,  51.3064,  47.4584],\n",
       "            [193.6817, 573.3492,  51.3064,  50.0238],\n",
       "            [375.8195, 450.2138,  64.1330,  50.0238],\n",
       "            [403.5497, 302.2524,  45.8116,  48.4678],\n",
       "            [514.3468, 728.5511,  51.3064,  50.0238],\n",
       "            [325.7957, 897.8622,  62.8504,  55.1544],\n",
       "            [185.9857, 923.5154,  60.2850,  51.3064],\n",
       "            [ 71.8239, 797.8147,  66.6983,  64.1330],\n",
       "            [  0.0000, 781.1401,  50.0238,  57.7197],\n",
       "            [661.8527, 560.5226,  57.7197,  50.0238],\n",
       "            [506.4357, 360.1871,  34.4246,  35.0036],\n",
       "            [ 30.7838, 135.9620,  52.5891,  38.4798],\n",
       "            [ 52.5891, 206.5083,  48.7411,  34.6318],\n",
       "            [150.0713, 162.8979,  51.3064,  37.1972],\n",
       "            [223.1829,  59.0024,  59.0024,  32.0665],\n",
       "            [250.1188, 101.3302,  48.7411,  33.3492],\n",
       "            [102.6128,  34.6318,  43.6105,  39.7625],\n",
       "            [375.8195, 150.0713,  48.7411,  41.0451],\n",
       "            [564.3705, 150.0713,  38.4798,  38.4798],\n",
       "            [468.1710, 120.5701,  35.9145,  33.3492],\n",
       "            [620.7062, 121.3078, 320.5359, 189.4881],\n",
       "            [383.6229, 567.6987,  45.4546,  30.8642],\n",
       "            [ 71.8295, 888.3292,  31.9866,  46.5770],\n",
       "            [149.2707, 863.6378,  29.7419,  28.0584],\n",
       "            [ 59.4838, 964.0869,  48.2605,  26.9361]]]),\n",
       "   'labels': tensor([3, 3, 3, 3, 3, 0, 3, 3, 3, 3, 3, 3, 3, 3, 3, 3, 3, 3, 3, 3, 3, 3, 0, 3,\n",
       "           3, 3, 3], dtype=torch.int32)},\n",
       "  {'boxes': tensor([[[7.8854e+02, 2.9548e+02, 4.8164e+01, 4.4917e+01],\n",
       "            [8.3670e+02, 2.0348e+02, 4.2752e+01, 4.5458e+01],\n",
       "            [9.7903e+02, 2.0510e+02, 3.9505e+01, 4.5999e+01],\n",
       "            [6.8842e+02, 3.9776e+02, 3.5176e+01, 3.4094e+01],\n",
       "            [6.9329e+02, 2.6950e+02, 4.3293e+01, 3.9505e+01],\n",
       "            [6.4188e+02, 2.8087e+02, 4.2211e+01, 4.2752e+01],\n",
       "            [6.0238e+02, 2.7600e+02, 3.5176e+01, 3.7341e+01],\n",
       "            [5.7640e+02, 1.4774e+02, 4.3293e+01, 3.9505e+01],\n",
       "            [5.8614e+02, 1.7859e+01, 4.1670e+01, 4.1129e+01],\n",
       "            [7.1656e+02, 1.2934e+02, 4.7082e+01, 4.5999e+01],\n",
       "            [6.6461e+02, 5.3576e+01, 4.1129e+01, 3.9505e+01],\n",
       "            [9.8715e+02, 1.2447e+02, 3.3552e+01, 4.1129e+01],\n",
       "            [1.0981e+03, 5.6823e+01, 4.2752e+01, 4.1670e+01],\n",
       "            [1.1219e+03, 2.5164e+02, 3.6799e+01, 4.1670e+01],\n",
       "            [1.0764e+03, 1.4179e+02, 3.7882e+01, 4.1129e+01],\n",
       "            [6.6082e+02, 1.5423e+02, 4.2752e+01, 3.7341e+01],\n",
       "            [9.0651e+02, 3.2524e+02, 3.7882e+01, 3.8423e+01],\n",
       "            [9.5414e+02, 3.7070e+02, 3.4094e+01, 4.1670e+01],\n",
       "            [1.0445e+03, 2.8892e+01, 2.8682e+01, 2.2729e+01],\n",
       "            [7.6756e+02, 9.5785e-01, 3.7356e+01, 3.4483e+01]]]),\n",
       "   'labels': tensor([3, 3, 3, 3, 3, 3, 3, 3, 3, 3, 3, 3, 3, 3, 3, 3, 3, 3, 3, 3],\n",
       "          dtype=torch.int32)},\n",
       "  {'boxes': tensor([[[264.4468, 695.0407,  65.5266,  49.1450],\n",
       "            [279.6584, 812.0526,  56.1657,  50.3151],\n",
       "            [159.1361, 819.0733,  67.8669,  50.3151],\n",
       "            [  7.0207, 691.5304,  52.6553,  70.2071],\n",
       "            [  7.0207, 609.6221,  43.2944,  54.9956],\n",
       "            [ 74.8876, 658.7670,  45.6346,  50.3151],\n",
       "            [ 44.4645, 423.5732,  31.5932,  42.1243],\n",
       "            [115.0858, 447.7490,  46.3540,  48.7516],\n",
       "            [159.0422, 504.4927,  47.1532,  41.5588],\n",
       "            [171.0303, 685.1134,  59.1413,  57.5429],\n",
       "            [259.7422, 908.9697,  49.5508,  55.1453],\n",
       "            [ 99.9009, 520.5552,  35.9643,  43.1572],\n",
       "            [368.6541, 815.3345,  39.1859,  25.6957],\n",
       "            [  0.0000, 449.8135,  38.5435,  33.4044]]]),\n",
       "   'labels': tensor([3, 3, 3, 3, 3, 3, 3, 3, 3, 3, 3, 3, 3, 3], dtype=torch.int32)},\n",
       "  {'boxes': tensor([[[ 888.5492,  389.2845,   32.4701,   34.6348],\n",
       "            [ 859.3261,  452.6013,   40.5876,   36.7995],\n",
       "            [1004.9005,  375.7553,   25.9761,   22.1879],\n",
       "            [1042.0513,  231.4390,   33.0113,   27.5996],\n",
       "            [1079.0405,  557.5880,   44.9170,   38.4230],\n",
       "            [1081.2052,  653.9160,   45.4582,   45.9993],\n",
       "            [1207.2975,  625.7752,   33.5525,   42.2112],\n",
       "            [1197.5565,  464.5070,   51.9522,   42.7523],\n",
       "            [1378.8479,  487.7772,   39.5053,   32.4701],\n",
       "            [1339.8838,  305.9446,   40.0465,   37.3406],\n",
       "            [ 943.2072,  606.2932,   28.6819,   24.8938],\n",
       "            [ 845.2557,  526.2002,   35.7171,   30.3054],\n",
       "            [1372.8951,  176.9621,   30.3054,   29.7643],\n",
       "            [1345.2955,   84.9635,   26.5173,   26.5173],\n",
       "            [1264.1202,    0.0000,   34.6348,   24.3526],\n",
       "            [ 884.7610,  238.1142,   40.5876,   32.4701],\n",
       "            [ 826.3148,    0.0000,   44.9170,   33.0113],\n",
       "            [ 937.7955,  114.7277,   51.9522,   45.9993],\n",
       "            [1086.8722,  384.8458,   40.1762,   31.7181],\n",
       "            [1097.4449,  272.7753,   25.3744,   23.2599],\n",
       "            [1220.6189,  569.8547,   31.5909,   25.4482],\n",
       "            [1293.4534,  237.3704,   25.4482,   26.7645]]]),\n",
       "   'labels': tensor([3, 3, 3, 3, 3, 3, 3, 3, 3, 3, 3, 3, 3, 3, 3, 3, 3, 3, 3, 3, 3, 3],\n",
       "          dtype=torch.int32)}))"
      ]
     },
     "execution_count": 7,
     "metadata": {},
     "output_type": "execute_result"
    }
   ],
   "source": [
    "next(iter(dataloader))"
   ]
  },
  {
   "cell_type": "code",
   "execution_count": 6,
   "metadata": {},
   "outputs": [
    {
     "name": "stdout",
     "output_type": "stream",
     "text": [
      "Removed 0 NaN entries.\n"
     ]
    }
   ],
   "source": [
    "dataset = cvdata.get_dataset('detection', 'temp')"
   ]
  },
  {
   "cell_type": "code",
   "execution_count": 5,
   "metadata": {},
   "outputs": [
    {
     "data": {
      "text/plain": [
       "{'test': 0, 'default': 1, 'trainval': 2, 'list': 3}"
      ]
     },
     "execution_count": 5,
     "metadata": {},
     "output_type": "execute_result"
    }
   ],
   "source": [
    "cvdata.image_set_to_idx"
   ]
  },
  {
   "cell_type": "code",
   "execution_count": 5,
   "metadata": {},
   "outputs": [
    {
     "data": {
      "text/plain": [
       "[3, 3, 3, 0, 3, 3, 3, 1]"
      ]
     },
     "execution_count": 5,
     "metadata": {},
     "output_type": "execute_result"
    }
   ],
   "source": [
    "cvdata.dataframe[['BBOX_CLASS_ID', 'XMIN']].iloc[0]['BBOX_CLASS_ID']"
   ]
  },
  {
   "cell_type": "code",
   "execution_count": 8,
   "metadata": {},
   "outputs": [
    {
     "data": {
      "text/plain": [
       "{'train': 0, 'default': 1, 'temp': 2, 'temp2': 3, 'val': 4, 'test': 5}"
      ]
     },
     "execution_count": 8,
     "metadata": {},
     "output_type": "execute_result"
    }
   ],
   "source": [
    "cvdata.image_set_to_idx"
   ]
  },
  {
   "cell_type": "code",
   "execution_count": 9,
   "metadata": {},
   "outputs": [
    {
     "data": {
      "text/plain": [
       "[]"
      ]
     },
     "execution_count": 9,
     "metadata": {},
     "output_type": "execute_result"
    }
   ],
   "source": [
    "cvdata.available_modes"
   ]
  },
  {
   "cell_type": "code",
   "execution_count": 2,
   "metadata": {},
   "outputs": [],
   "source": [
    "a = cvdata.dataframe.loc[cvdata.dataframe['CLASS_NAME'] == 'keeshond']['CLASS_ID']"
   ]
  },
  {
   "cell_type": "code",
   "execution_count": 5,
   "metadata": {},
   "outputs": [
    {
     "data": {
      "text/html": [
       "<div>\n",
       "<style scoped>\n",
       "    .dataframe tbody tr th:only-of-type {\n",
       "        vertical-align: middle;\n",
       "    }\n",
       "\n",
       "    .dataframe tbody tr th {\n",
       "        vertical-align: top;\n",
       "    }\n",
       "\n",
       "    .dataframe thead th {\n",
       "        text-align: right;\n",
       "    }\n",
       "</style>\n",
       "<table border=\"1\" class=\"dataframe\">\n",
       "  <thead>\n",
       "    <tr style=\"text-align: right;\">\n",
       "      <th></th>\n",
       "      <th>IMAGE_NAME</th>\n",
       "      <th>ABSOLUTE_FILE</th>\n",
       "      <th>IMAGE_ID</th>\n",
       "      <th>BBOX_CLASS_ID</th>\n",
       "      <th>XMIN</th>\n",
       "      <th>YMIN</th>\n",
       "      <th>XMAX</th>\n",
       "      <th>YMAX</th>\n",
       "      <th>IMAGE_SET_NAME</th>\n",
       "      <th>IMAGE_SET_ID</th>\n",
       "    </tr>\n",
       "  </thead>\n",
       "  <tbody>\n",
       "    <tr>\n",
       "      <th>0</th>\n",
       "      <td>PXL_20220919_184900539</td>\n",
       "      <td>/Users/atong/Documents/Datasets/Avo/images/PXL...</td>\n",
       "      <td>31</td>\n",
       "      <td>[3, 3, 3, 3, 3, 3, 3, 3, 3, 3, 3, 3, 3, 3, 3, ...</td>\n",
       "      <td>[1291.0923586163474, 1726.6496864013752, 408.9...</td>\n",
       "      <td>[2308.239573818828, 2359.5857628666568, 1603.5...</td>\n",
       "      <td>[123.93907701200006, 132.7918682271427, 134.56...</td>\n",
       "      <td>[93.83958688051462, 122.1685187689709, 116.856...</td>\n",
       "      <td>[train]</td>\n",
       "      <td>[5]</td>\n",
       "    </tr>\n",
       "    <tr>\n",
       "      <th>1</th>\n",
       "      <td>picam2-wideangle-RGB2023-Apr-15-17-32-31</td>\n",
       "      <td>/Users/atong/Documents/Datasets/Avo/images/pic...</td>\n",
       "      <td>1235</td>\n",
       "      <td>[3, 3, 3, 3, 3, 3, 3, 3, 3, 3]</td>\n",
       "      <td>[751.49847608128, 715.2612873334667, 593.17229...</td>\n",
       "      <td>[187.2189925399091, 346.59264230158163, 448.30...</td>\n",
       "      <td>[66.6967660923426, 47.22585747330833, 53.03827...</td>\n",
       "      <td>[57.33581646534718, 46.49930581987298, 46.4993...</td>\n",
       "      <td>[test]</td>\n",
       "      <td>[1]</td>\n",
       "    </tr>\n",
       "    <tr>\n",
       "      <th>2</th>\n",
       "      <td>picam2-wideangle-RGB2023-Apr-15-17-31-05</td>\n",
       "      <td>/Users/atong/Documents/Datasets/Avo/images/pic...</td>\n",
       "      <td>1060</td>\n",
       "      <td>[3, 3, 3, 3, 3, 3, 3, 3, 3, 3, 3, 3, 3, 3, 3, ...</td>\n",
       "      <td>[102.08378088077336, 357.2932330827068, 267.96...</td>\n",
       "      <td>[483.7379162191192, 573.0612244897959, 607.862...</td>\n",
       "      <td>[40.601503759398504, 45.24167561761549, 40.601...</td>\n",
       "      <td>[35.961331901181545, 31.321160042964536, 44.08...</td>\n",
       "      <td>[test]</td>\n",
       "      <td>[1]</td>\n",
       "    </tr>\n",
       "    <tr>\n",
       "      <th>3</th>\n",
       "      <td>picam2-wideangle-RGB2023-Apr-15-17-28-41</td>\n",
       "      <td>/Users/atong/Documents/Datasets/Avo/images/pic...</td>\n",
       "      <td>766</td>\n",
       "      <td>[3, 3, 3, 3, 3, 3, 0, 3, 3]</td>\n",
       "      <td>[99.77677934577187, 66.02875103764316, 29.3461...</td>\n",
       "      <td>[89.50564029547184, 14.673055786142926, 343.34...</td>\n",
       "      <td>[74.83258450932891, 61.626834301800244, 67.496...</td>\n",
       "      <td>[61.62683430180027, 44.019167358428774, 54.290...</td>\n",
       "      <td>[test]</td>\n",
       "      <td>[1]</td>\n",
       "    </tr>\n",
       "    <tr>\n",
       "      <th>4</th>\n",
       "      <td>picam2-wideangle-RGB2023-Apr-15-17-31-11</td>\n",
       "      <td>/Users/atong/Documents/Datasets/Avo/images/pic...</td>\n",
       "      <td>1076</td>\n",
       "      <td>[0]</td>\n",
       "      <td>[367.1609403254973]</td>\n",
       "      <td>[62.49547920433991]</td>\n",
       "      <td>[304.66546112115685]</td>\n",
       "      <td>[302.0614828209763]</td>\n",
       "      <td>[train]</td>\n",
       "      <td>[5]</td>\n",
       "    </tr>\n",
       "    <tr>\n",
       "      <th>...</th>\n",
       "      <td>...</td>\n",
       "      <td>...</td>\n",
       "      <td>...</td>\n",
       "      <td>...</td>\n",
       "      <td>...</td>\n",
       "      <td>...</td>\n",
       "      <td>...</td>\n",
       "      <td>...</td>\n",
       "      <td>...</td>\n",
       "      <td>...</td>\n",
       "    </tr>\n",
       "    <tr>\n",
       "      <th>540</th>\n",
       "      <td>picam2-wideangle-RGB2023-Apr-15-17-32-23</td>\n",
       "      <td>/Users/atong/Documents/Datasets/Avo/images/pic...</td>\n",
       "      <td>1212</td>\n",
       "      <td>[3, 3, 3, 3, 3]</td>\n",
       "      <td>[203.00751879699249, 167.04618689581096, 42.92...</td>\n",
       "      <td>[892.0730397422127, 859.5918367346937, 784.189...</td>\n",
       "      <td>[35.961331901181495, 27.841031149301834, 39.44...</td>\n",
       "      <td>[39.44146079484424, 30.161117078410374, 35.961...</td>\n",
       "      <td>[train]</td>\n",
       "      <td>[5]</td>\n",
       "    </tr>\n",
       "    <tr>\n",
       "      <th>541</th>\n",
       "      <td>picam2-wideangle-RGB2023-Apr-15-17-26-56</td>\n",
       "      <td>/Users/atong/Documents/Datasets/Avo/images/pic...</td>\n",
       "      <td>557</td>\n",
       "      <td>[3, 3, 3, 3, 3, 0, 3]</td>\n",
       "      <td>[418.14726840855104, 389.9287410926365, 277.05...</td>\n",
       "      <td>[379.66745843230404, 415.581947743468, 436.104...</td>\n",
       "      <td>[38.47980997624706, 35.91448931116392, 38.4798...</td>\n",
       "      <td>[39.76247030878863, 30.78384798099761, 35.9144...</td>\n",
       "      <td>[train]</td>\n",
       "      <td>[5]</td>\n",
       "    </tr>\n",
       "    <tr>\n",
       "      <th>542</th>\n",
       "      <td>picam2-wideangle-RGB2023-Apr-15-17-24-47</td>\n",
       "      <td>/Users/atong/Documents/Datasets/Avo/images/pic...</td>\n",
       "      <td>265</td>\n",
       "      <td>[0, 0, 0, 0]</td>\n",
       "      <td>[48.71035940803383, 188.75264270613107, 347.06...</td>\n",
       "      <td>[85.2431289640592, 76.10993657505286, 18.26638...</td>\n",
       "      <td>[161.35306553911204, 12.177589852008442, 136.9...</td>\n",
       "      <td>[207.01902748414378, 9.13319238900634, 127.864...</td>\n",
       "      <td>[test]</td>\n",
       "      <td>[1]</td>\n",
       "    </tr>\n",
       "    <tr>\n",
       "      <th>543</th>\n",
       "      <td>picam2-wideangle-RGB2023-Apr-15-17-30-26</td>\n",
       "      <td>/Users/atong/Documents/Datasets/Avo/images/pic...</td>\n",
       "      <td>968</td>\n",
       "      <td>[0, 3, 3]</td>\n",
       "      <td>[70.76262083780881, 1309.3800461072442, 1393.7...</td>\n",
       "      <td>[0.0, 399.2367792553786, 230.40050697478603]</td>\n",
       "      <td>[184.4468313641246, 55.89849555235843, 46.2018...</td>\n",
       "      <td>[279.5703544575725, 39.927496823113216, 31.371...</td>\n",
       "      <td>[train]</td>\n",
       "      <td>[5]</td>\n",
       "    </tr>\n",
       "    <tr>\n",
       "      <th>544</th>\n",
       "      <td>picam2-wideangle-RGB2023-Apr-15-17-24-53</td>\n",
       "      <td>/Users/atong/Documents/Datasets/Avo/images/pic...</td>\n",
       "      <td>280</td>\n",
       "      <td>[3, 3, 3, 3, 3, 3, 3, 3, 3, 3, 3, 3, 3, 3, 0, 0]</td>\n",
       "      <td>[1214.6564885496184, 1321.8320610687024, 1093....</td>\n",
       "      <td>[427.3282442748091, 97.55725190839694, 127.786...</td>\n",
       "      <td>[61.832061068702096, 60.458015267175576, 76.94...</td>\n",
       "      <td>[70.0763358778626, 71.45038167938932, 71.45038...</td>\n",
       "      <td>[train]</td>\n",
       "      <td>[5]</td>\n",
       "    </tr>\n",
       "  </tbody>\n",
       "</table>\n",
       "<p>545 rows × 10 columns</p>\n",
       "</div>"
      ],
      "text/plain": [
       "                                   IMAGE_NAME  \\\n",
       "0                      PXL_20220919_184900539   \n",
       "1    picam2-wideangle-RGB2023-Apr-15-17-32-31   \n",
       "2    picam2-wideangle-RGB2023-Apr-15-17-31-05   \n",
       "3    picam2-wideangle-RGB2023-Apr-15-17-28-41   \n",
       "4    picam2-wideangle-RGB2023-Apr-15-17-31-11   \n",
       "..                                        ...   \n",
       "540  picam2-wideangle-RGB2023-Apr-15-17-32-23   \n",
       "541  picam2-wideangle-RGB2023-Apr-15-17-26-56   \n",
       "542  picam2-wideangle-RGB2023-Apr-15-17-24-47   \n",
       "543  picam2-wideangle-RGB2023-Apr-15-17-30-26   \n",
       "544  picam2-wideangle-RGB2023-Apr-15-17-24-53   \n",
       "\n",
       "                                         ABSOLUTE_FILE  IMAGE_ID  \\\n",
       "0    /Users/atong/Documents/Datasets/Avo/images/PXL...        31   \n",
       "1    /Users/atong/Documents/Datasets/Avo/images/pic...      1235   \n",
       "2    /Users/atong/Documents/Datasets/Avo/images/pic...      1060   \n",
       "3    /Users/atong/Documents/Datasets/Avo/images/pic...       766   \n",
       "4    /Users/atong/Documents/Datasets/Avo/images/pic...      1076   \n",
       "..                                                 ...       ...   \n",
       "540  /Users/atong/Documents/Datasets/Avo/images/pic...      1212   \n",
       "541  /Users/atong/Documents/Datasets/Avo/images/pic...       557   \n",
       "542  /Users/atong/Documents/Datasets/Avo/images/pic...       265   \n",
       "543  /Users/atong/Documents/Datasets/Avo/images/pic...       968   \n",
       "544  /Users/atong/Documents/Datasets/Avo/images/pic...       280   \n",
       "\n",
       "                                         BBOX_CLASS_ID  \\\n",
       "0    [3, 3, 3, 3, 3, 3, 3, 3, 3, 3, 3, 3, 3, 3, 3, ...   \n",
       "1                       [3, 3, 3, 3, 3, 3, 3, 3, 3, 3]   \n",
       "2    [3, 3, 3, 3, 3, 3, 3, 3, 3, 3, 3, 3, 3, 3, 3, ...   \n",
       "3                          [3, 3, 3, 3, 3, 3, 0, 3, 3]   \n",
       "4                                                  [0]   \n",
       "..                                                 ...   \n",
       "540                                    [3, 3, 3, 3, 3]   \n",
       "541                              [3, 3, 3, 3, 3, 0, 3]   \n",
       "542                                       [0, 0, 0, 0]   \n",
       "543                                          [0, 3, 3]   \n",
       "544   [3, 3, 3, 3, 3, 3, 3, 3, 3, 3, 3, 3, 3, 3, 0, 0]   \n",
       "\n",
       "                                                  XMIN  \\\n",
       "0    [1291.0923586163474, 1726.6496864013752, 408.9...   \n",
       "1    [751.49847608128, 715.2612873334667, 593.17229...   \n",
       "2    [102.08378088077336, 357.2932330827068, 267.96...   \n",
       "3    [99.77677934577187, 66.02875103764316, 29.3461...   \n",
       "4                                  [367.1609403254973]   \n",
       "..                                                 ...   \n",
       "540  [203.00751879699249, 167.04618689581096, 42.92...   \n",
       "541  [418.14726840855104, 389.9287410926365, 277.05...   \n",
       "542  [48.71035940803383, 188.75264270613107, 347.06...   \n",
       "543  [70.76262083780881, 1309.3800461072442, 1393.7...   \n",
       "544  [1214.6564885496184, 1321.8320610687024, 1093....   \n",
       "\n",
       "                                                  YMIN  \\\n",
       "0    [2308.239573818828, 2359.5857628666568, 1603.5...   \n",
       "1    [187.2189925399091, 346.59264230158163, 448.30...   \n",
       "2    [483.7379162191192, 573.0612244897959, 607.862...   \n",
       "3    [89.50564029547184, 14.673055786142926, 343.34...   \n",
       "4                                  [62.49547920433991]   \n",
       "..                                                 ...   \n",
       "540  [892.0730397422127, 859.5918367346937, 784.189...   \n",
       "541  [379.66745843230404, 415.581947743468, 436.104...   \n",
       "542  [85.2431289640592, 76.10993657505286, 18.26638...   \n",
       "543       [0.0, 399.2367792553786, 230.40050697478603]   \n",
       "544  [427.3282442748091, 97.55725190839694, 127.786...   \n",
       "\n",
       "                                                  XMAX  \\\n",
       "0    [123.93907701200006, 132.7918682271427, 134.56...   \n",
       "1    [66.6967660923426, 47.22585747330833, 53.03827...   \n",
       "2    [40.601503759398504, 45.24167561761549, 40.601...   \n",
       "3    [74.83258450932891, 61.626834301800244, 67.496...   \n",
       "4                                 [304.66546112115685]   \n",
       "..                                                 ...   \n",
       "540  [35.961331901181495, 27.841031149301834, 39.44...   \n",
       "541  [38.47980997624706, 35.91448931116392, 38.4798...   \n",
       "542  [161.35306553911204, 12.177589852008442, 136.9...   \n",
       "543  [184.4468313641246, 55.89849555235843, 46.2018...   \n",
       "544  [61.832061068702096, 60.458015267175576, 76.94...   \n",
       "\n",
       "                                                  YMAX IMAGE_SET_NAME  \\\n",
       "0    [93.83958688051462, 122.1685187689709, 116.856...        [train]   \n",
       "1    [57.33581646534718, 46.49930581987298, 46.4993...         [test]   \n",
       "2    [35.961331901181545, 31.321160042964536, 44.08...         [test]   \n",
       "3    [61.62683430180027, 44.019167358428774, 54.290...         [test]   \n",
       "4                                  [302.0614828209763]        [train]   \n",
       "..                                                 ...            ...   \n",
       "540  [39.44146079484424, 30.161117078410374, 35.961...        [train]   \n",
       "541  [39.76247030878863, 30.78384798099761, 35.9144...        [train]   \n",
       "542  [207.01902748414378, 9.13319238900634, 127.864...         [test]   \n",
       "543  [279.5703544575725, 39.927496823113216, 31.371...        [train]   \n",
       "544  [70.0763358778626, 71.45038167938932, 71.45038...        [train]   \n",
       "\n",
       "    IMAGE_SET_ID  \n",
       "0            [5]  \n",
       "1            [1]  \n",
       "2            [1]  \n",
       "3            [1]  \n",
       "4            [5]  \n",
       "..           ...  \n",
       "540          [5]  \n",
       "541          [5]  \n",
       "542          [1]  \n",
       "543          [5]  \n",
       "544          [5]  \n",
       "\n",
       "[545 rows x 10 columns]"
      ]
     },
     "execution_count": 5,
     "metadata": {},
     "output_type": "execute_result"
    }
   ],
   "source": [
    "cvdata.dataframe"
   ]
  },
  {
   "cell_type": "code",
   "execution_count": 5,
   "metadata": {},
   "outputs": [
    {
     "data": {
      "text/plain": [
       "True"
      ]
     },
     "execution_count": 5,
     "metadata": {},
     "output_type": "execute_result"
    }
   ],
   "source": [
    "isinstance(a.iloc[75], float)"
   ]
  },
  {
   "cell_type": "code",
   "execution_count": 4,
   "metadata": {},
   "outputs": [
    {
     "data": {
      "text/plain": [
       "13.0"
      ]
     },
     "execution_count": 4,
     "metadata": {},
     "output_type": "execute_result"
    }
   ],
   "source": [
    "a.iloc[75]"
   ]
  },
  {
   "cell_type": "code",
   "execution_count": 2,
   "metadata": {},
   "outputs": [
    {
     "data": {
      "text/plain": [
       "{'japanese_chin': 12.0,\n",
       " 'boxer': 5.0,\n",
       " 'keeshond': 13.0,\n",
       " 'leonberger': 14.0,\n",
       " 'British_Shorthair': 5.0,\n",
       " 'Maine_Coon': 7.0,\n",
       " 'miniature_pinscher': 15.0,\n",
       " 'Russian_Blue': 10.0,\n",
       " 'chihuahua': 6.0,\n",
       " 'saint_bernard': 19.0,\n",
       " 'shiba_inu': 22.0,\n",
       " 'german_shorthaired': 9.0,\n",
       " 'newfoundland': 16.0,\n",
       " 'Persian': 8.0,\n",
       " 'Egyptian_Mau': 6.0,\n",
       " 'samoyed': 20.0,\n",
       " 'english_cocker_spaniel': 7.0,\n",
       " 'pomeranian': 17.0,\n",
       " 'pug': 18.0,\n",
       " 'scottish_terrier': 21.0,\n",
       " 'Ragdoll': 9.0,\n",
       " 'english_setter': 8.0,\n",
       " 'wheaten_terrier': 24.0,\n",
       " 'Siamese': 11.0,\n",
       " 'great_pyrenees': 10.0,\n",
       " 'Sphynx': 12.0,\n",
       " 'staffordshire_bull_terrier': 23.0,\n",
       " 'havanese': 11.0,\n",
       " 'yorkshire_terrier': 25.0,\n",
       " 'basset_hound': 3.0,\n",
       " 'Abyssinian': 1.0,\n",
       " 'american_bulldog': 1.0,\n",
       " 'american_pit_bull_terrier': 2.0,\n",
       " 'beagle': 4.0,\n",
       " 'Bengal': 2.0,\n",
       " 'Birman': 3.0,\n",
       " 'Bombay': 4.0}"
      ]
     },
     "execution_count": 2,
     "metadata": {},
     "output_type": "execute_result"
    }
   ],
   "source": [
    "cvdata.class_to_idx"
   ]
  },
  {
   "cell_type": "code",
   "execution_count": 3,
   "metadata": {},
   "outputs": [
    {
     "data": {
      "text/plain": [
       "['Abyssinian',\n",
       " 'american_bulldog',\n",
       " 'american_pit_bull_terrier',\n",
       " 'Bengal',\n",
       " 'basset_hound',\n",
       " 'Birman',\n",
       " 'beagle',\n",
       " 'Bombay',\n",
       " 'boxer',\n",
       " 'British_Shorthair',\n",
       " 'chihuahua',\n",
       " 'Egyptian_Mau',\n",
       " 'Maine_Coon',\n",
       " 'english_cocker_spaniel',\n",
       " 'Persian',\n",
       " 'english_setter',\n",
       " 'german_shorthaired',\n",
       " 'Ragdoll',\n",
       " 'Russian_Blue',\n",
       " 'great_pyrenees',\n",
       " 'Siamese',\n",
       " 'havanese',\n",
       " 'japanese_chin',\n",
       " 'Sphynx',\n",
       " 'keeshond',\n",
       " 'leonberger',\n",
       " 'miniature_pinscher',\n",
       " 'newfoundland',\n",
       " 'pomeranian',\n",
       " 'pug',\n",
       " 'saint_bernard',\n",
       " 'samoyed',\n",
       " 'scottish_terrier',\n",
       " 'shiba_inu',\n",
       " 'staffordshire_bull_terrier',\n",
       " 'wheaten_terrier',\n",
       " 'yorkshire_terrier']"
      ]
     },
     "execution_count": 3,
     "metadata": {},
     "output_type": "execute_result"
    }
   ],
   "source": [
    "cvdata.classes"
   ]
  },
  {
   "cell_type": "code",
   "execution_count": null,
   "metadata": {},
   "outputs": [],
   "source": []
  }
 ],
 "metadata": {
  "kernelspec": {
   "display_name": "Python 3",
   "language": "python",
   "name": "python3"
  },
  "language_info": {
   "codemirror_mode": {
    "name": "ipython",
    "version": 3
   },
   "file_extension": ".py",
   "mimetype": "text/x-python",
   "name": "python",
   "nbconvert_exporter": "python",
   "pygments_lexer": "ipython3",
   "version": "3.9.6"
  }
 },
 "nbformat": 4,
 "nbformat_minor": 2
}
